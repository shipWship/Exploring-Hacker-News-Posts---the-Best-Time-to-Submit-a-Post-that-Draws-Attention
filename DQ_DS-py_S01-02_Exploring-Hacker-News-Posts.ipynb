{
 "cells": [
  {
   "cell_type": "markdown",
   "metadata": {},
   "source": [
    "# Exploring Hacker News Posts - the Best Time to Submit a Post that Draws Attention\n",
    "## Introduction\n",
    "[Hacker News](https://commonmark.org/help/) is a social news website, under the startup incubator [Y Combinator](https://www.ycombinator.com/), with a focus on computer science and entrepreneurship. Hacker News gains huge popularity in technology and startup communities. On this site, users can submit any posts, which \"*gratify one's intellectual curiosity*\" ([Ref: Hacker News Guidelines](https://news.ycombinator.com/newsguidelines.html)). Their posts are voted and commented upon, where the top-ranked posts can draw hundreds of thousands of traffic."
   ]
  },
  {
   "cell_type": "markdown",
   "metadata": {},
   "source": [
    "You can find the original dataset for Hacker News posts (12-month period) until 26th September 2016 [here](https://www.kaggle.com/hacker-news/hacker-news-posts). For this project, we use the `hacker_news.csv` dataset, a modified dataset, of which approximately 300,000 data rows have been trimmed down to 20,000 rows by:\n",
    "- Deleting all the posts without any comments\n",
    "- Sampling randomly from the remaining posts after the deletion\n",
    "\n",
    "Here are the explanations for the columns of the `hacker_news.csv` dataset:\n",
    "- `id`: The unique identifier for the post\n",
    "- `title`: The title of the post\n",
    "- `url`: The URL that the posts link to if the post has a URL\n",
    "- `num_points`: The number of points the post acquired, calculated as the total number of upvotes minus the total number of downvotes\n",
    "- `num_comments`: The number of comments that were made on the post\n",
    "- `author`: The username of the person who submitted the post\n",
    "- `created_at`: The date and time at which the post was submitted (time zone - Eastern Time in the US)"
   ]
  },
  {
   "cell_type": "markdown",
   "metadata": {},
   "source": [
    "### Goal of the Project\n",
    "Our project interested in analysing the posts with titles starting with:\n",
    "- `Ask HN`: The posts for **asking** Hacker News community **a specific question**.\n",
    "- `Show HN`: The posts for **sharing** with the community a project, product, or just generally something interesting.\n",
    "\n",
    "The goal of our project is to compare these two types of posts to **study whether the number of comments and points (total number of upvotes) is influenced by**:\n",
    "- **The type of posts** — either `Ask HN` or `Show HN`?\n",
    "- **The submission time of the posts** — what time?"
   ]
  },
  {
   "cell_type": "markdown",
   "metadata": {},
   "source": [
    "### Summary of Results\n",
    "Based on our data analysis, we concluded that **`Ask HN` has a slightly higher number of comments** and the best time to get high attention is submitting a post is at **22:00 Eastern European Time (EET) our time (or 15:00 Eastern Time, EST)**. On the other hand, **`Share HN` has a higher average points, and its top hour is at 06:00 EET or 23:00 EST**.\n",
    "\n",
    "Please check out the details below for the full data analysis."
   ]
  },
  {
   "cell_type": "markdown",
   "metadata": {},
   "source": [
    "## Opening and Preparing the Data\n",
    "We open and read `hacker_news.csv` as a list of lists and assign it to the variable `hn`. For data analysis purpose, we remove the **header** row (`hn[0]`) of the dataset and keep only the rows (`hn[1:]`) that contain the data."
   ]
  },
  {
   "cell_type": "code",
   "execution_count": 1,
   "metadata": {},
   "outputs": [],
   "source": [
    "from csv import reader\n",
    "\n",
    "opened_file = open('hacker_news.csv')\n",
    "read_file = reader(opened_file)\n",
    "hn = list(read_file)\n",
    "headers = hn[0]\n",
    "hn = hn[1:]"
   ]
  },
  {
   "cell_type": "markdown",
   "metadata": {},
   "source": [
    "Here, you can see the `headers` and the first five rows (`hn[:5]`) of the data after removing the header row:"
   ]
  },
  {
   "cell_type": "code",
   "execution_count": 2,
   "metadata": {},
   "outputs": [
    {
     "data": {
      "text/plain": [
       "['id', 'title', 'url', 'num_points', 'num_comments', 'author', 'created_at']"
      ]
     },
     "execution_count": 2,
     "metadata": {},
     "output_type": "execute_result"
    }
   ],
   "source": [
    "headers"
   ]
  },
  {
   "cell_type": "code",
   "execution_count": 3,
   "metadata": {},
   "outputs": [
    {
     "data": {
      "text/plain": [
       "[['12224879',\n",
       "  'Interactive Dynamic Video',\n",
       "  'http://www.interactivedynamicvideo.com/',\n",
       "  '386',\n",
       "  '52',\n",
       "  'ne0phyte',\n",
       "  '8/4/2016 11:52'],\n",
       " ['10975351',\n",
       "  'How to Use Open Source and Shut the Fuck Up at the Same Time',\n",
       "  'http://hueniverse.com/2016/01/26/how-to-use-open-source-and-shut-the-fuck-up-at-the-same-time/',\n",
       "  '39',\n",
       "  '10',\n",
       "  'josep2',\n",
       "  '1/26/2016 19:30'],\n",
       " ['11964716',\n",
       "  \"Florida DJs May Face Felony for April Fools' Water Joke\",\n",
       "  'http://www.thewire.com/entertainment/2013/04/florida-djs-april-fools-water-joke/63798/',\n",
       "  '2',\n",
       "  '1',\n",
       "  'vezycash',\n",
       "  '6/23/2016 22:20'],\n",
       " ['11919867',\n",
       "  'Technology ventures: From Idea to Enterprise',\n",
       "  'https://www.amazon.com/Technology-Ventures-Enterprise-Thomas-Byers/dp/0073523429',\n",
       "  '3',\n",
       "  '1',\n",
       "  'hswarna',\n",
       "  '6/17/2016 0:01'],\n",
       " ['10301696',\n",
       "  'Note by Note: The Making of Steinway L1037 (2007)',\n",
       "  'http://www.nytimes.com/2007/11/07/movies/07stein.html?_r=0',\n",
       "  '8',\n",
       "  '2',\n",
       "  'walterbell',\n",
       "  '9/30/2015 4:12']]"
      ]
     },
     "execution_count": 3,
     "metadata": {},
     "output_type": "execute_result"
    }
   ],
   "source": [
    "hn[:5]"
   ]
  },
  {
   "cell_type": "markdown",
   "metadata": {},
   "source": [
    "## Which Post has a Higher Average Number of Comments — 'Ask HN' or 'Show HN'?\n",
    "\n",
    "Since we focus only on the post titles start with `Ask HN` or `Show HN`, we generate \n",
    "new lists of lists for `ask_posts`, `show_posts` and `other_posts`. "
   ]
  },
  {
   "cell_type": "code",
   "execution_count": 4,
   "metadata": {},
   "outputs": [],
   "source": [
    "ask_posts = []    # For `Ask HN`\n",
    "show_posts = []    # For `Show HN`\n",
    "other_posts = []    # Posts that are neither `Ask HN` nor `Show HN`\n",
    "\n",
    "for row in hn:\n",
    "    title = row[1].lower()\n",
    "    if title.startswith('ask hn'):\n",
    "        ask_posts.append(row)\n",
    "    elif title.startswith('show hn'):\n",
    "        show_posts.append(row)\n",
    "    else:\n",
    "        other_posts.append(row)"
   ]
  },
  {
   "cell_type": "code",
   "execution_count": 5,
   "metadata": {},
   "outputs": [
    {
     "name": "stdout",
     "output_type": "stream",
     "text": [
      "The number of posts for:\n",
      "    ask_posts:      1744\n",
      "    show_posts:     1162\n",
      "    other_posts:    17194\n"
     ]
    }
   ],
   "source": [
    "print('The number of posts for:')\n",
    "print('    ask_posts:     ', len(ask_posts))\n",
    "print('    show_posts:    ', len(show_posts))\n",
    "print('    other_posts:   ', len(other_posts))"
   ]
  },
  {
   "cell_type": "markdown",
   "metadata": {},
   "source": [
    "Let's inspect the first five rows of `ask_posts` and `show_posts` respectively below:"
   ]
  },
  {
   "cell_type": "code",
   "execution_count": 6,
   "metadata": {},
   "outputs": [
    {
     "name": "stdout",
     "output_type": "stream",
     "text": [
      "ask_posts:\n",
      "[['12296411', 'Ask HN: How to improve my personal website?', '', '2', '6', 'ahmedbaracat', '8/16/2016 9:55'], ['10610020', 'Ask HN: Am I the only one outraged by Twitter shutting down share counts?', '', '28', '29', 'tkfx', '11/22/2015 13:43'], ['11610310', 'Ask HN: Aby recent changes to CSS that broke mobile?', '', '1', '1', 'polskibus', '5/2/2016 10:14'], ['12210105', 'Ask HN: Looking for Employee #3 How do I do it?', '', '1', '3', 'sph130', '8/2/2016 14:20'], ['10394168', 'Ask HN: Someone offered to buy my browser extension from me. What now?', '', '28', '17', 'roykolak', '10/15/2015 16:38']]\n",
      "\n",
      "\n",
      "show_posts:\n",
      "[['10627194', 'Show HN: Wio Link  ESP8266 Based Web of Things Hardware Development Platform', 'https://iot.seeed.cc', '26', '22', 'kfihihc', '11/25/2015 14:03'], ['10646440', 'Show HN: Something pointless I made', 'http://dn.ht/picklecat/', '747', '102', 'dhotson', '11/29/2015 22:46'], ['11590768', 'Show HN: Shanhu.io, a programming playground powered by e8vm', 'https://shanhu.io', '1', '1', 'h8liu', '4/28/2016 18:05'], ['12178806', 'Show HN: Webscope  Easy way for web developers to communicate with Clients', 'http://webscopeapp.com', '3', '3', 'fastbrick', '7/28/2016 7:11'], ['10872799', 'Show HN: GeoScreenshot  Easily test Geo-IP based web pages', 'https://www.geoscreenshot.com/', '1', '9', 'kpsychwave', '1/9/2016 20:45']]\n"
     ]
    }
   ],
   "source": [
    "print('ask_posts:')\n",
    "print(ask_posts[:5])\n",
    "\n",
    "print('\\n')\n",
    "\n",
    "print('show_posts:')\n",
    "print(show_posts[:5])"
   ]
  },
  {
   "cell_type": "markdown",
   "metadata": {},
   "source": [
    "Next, we will calculate the average number of comments for `ask_posts` and `show_posts`. The `num_comments` has an `index` of *4*."
   ]
  },
  {
   "cell_type": "code",
   "execution_count": 7,
   "metadata": {},
   "outputs": [],
   "source": [
    "def average_comments(posts_type):\n",
    "    total_comments = 0\n",
    "\n",
    "    for row in posts_type:\n",
    "        num_comments = int(row[4])\n",
    "        total_comments += num_comments\n",
    "\n",
    "    avg_comments = round(total_comments/len(posts_type), 2)\n",
    "    return avg_comments"
   ]
  },
  {
   "cell_type": "code",
   "execution_count": 8,
   "metadata": {},
   "outputs": [
    {
     "name": "stdout",
     "output_type": "stream",
     "text": [
      "Average number of comments for ask_posts:    14.04\n",
      "Average number of comments for show_posts:    10.32\n"
     ]
    }
   ],
   "source": [
    "print('Average number of comments for ask_posts:   ', average_comments(ask_posts))\n",
    "print('Average number of comments for show_posts:   ', average_comments(show_posts))"
   ]
  },
  {
   "cell_type": "markdown",
   "metadata": {},
   "source": [
    "Based on our results, **`ask_post` has a slightly higher average number of comments** than `show_post`. Nonetheless, it is **not statistically significant**, as they only have a difference of ~4 comments."
   ]
  },
  {
   "cell_type": "markdown",
   "metadata": {},
   "source": [
    "## Determining the Amount of 'Ask Posts' and Comments by Hour Created\n",
    "Since `ask_posts` has slightly more comments than `show_posts`, we decided to focus on the analysis of `ask_posts` starting from this step.\n",
    "\n",
    "To investigate whether the creation time of `ask_posts` influences the number of comments received, we apply the following approach:\n",
    "1. Determine the number of `ask_posts` created every hour, as well as the corresponded number of comments obtained.\n",
    "2. Determine the average number of comments obtained by `ask_posts` per hour of its creation.\n",
    "\n",
    "To perform the analysis for part 1, we will apply the `datetime` module to work with the data in the `created_at` column (*index: -1*)."
   ]
  },
  {
   "cell_type": "code",
   "execution_count": 9,
   "metadata": {},
   "outputs": [
    {
     "name": "stdout",
     "output_type": "stream",
     "text": [
      "counts_by_hour:\n",
      "{'09': 45, '13': 85, '10': 59, '14': 107, '16': 108, '23': 68, '12': 73, '17': 100, '15': 116, '21': 109, '20': 80, '02': 58, '18': 109, '03': 54, '05': 46, '19': 110, '01': 60, '22': 71, '08': 48, '04': 47, '00': 55, '06': 44, '07': 34, '11': 58}\n",
      "\n",
      "\n",
      "comments_by_hour:\n",
      "{'09': 251, '13': 1253, '10': 793, '14': 1416, '16': 1814, '23': 543, '12': 687, '17': 1146, '15': 4477, '21': 1745, '20': 1722, '02': 1381, '18': 1439, '03': 421, '05': 464, '19': 1188, '01': 683, '22': 479, '08': 492, '04': 337, '00': 447, '06': 397, '07': 267, '11': 641}\n"
     ]
    }
   ],
   "source": [
    "import datetime as dt\n",
    "\n",
    "result_list = []\n",
    "counts_by_hour = {}    # The number of ask_posts created every hour\n",
    "comments_by_hour = {}  # The number of comments obtained by the ask_posts \n",
    "\n",
    "for row in ask_posts:\n",
    "    created_at = row[-1]\n",
    "    num_comments = int(row[4])\n",
    "    result_list.append([created_at, num_comments])\n",
    "    \n",
    "for result in result_list:\n",
    "    comments_result = result[1]\n",
    "    creation_time_str = result[0]\n",
    "    creation_time_dt = dt.datetime.strptime(creation_time_str, '%m/%d/%Y %H:%M')\n",
    "    creation_hour = creation_time_dt.strftime('%H')\n",
    "\n",
    "    if not creation_hour in counts_by_hour:\n",
    "        counts_by_hour[creation_hour] = 1\n",
    "        comments_by_hour[creation_hour] = comments_result\n",
    "    else:\n",
    "        counts_by_hour[creation_hour] += 1\n",
    "        comments_by_hour[creation_hour] += comments_result\n",
    "\n",
    "print('counts_by_hour:')\n",
    "print(counts_by_hour)\n",
    "print('\\n')\n",
    "print('comments_by_hour:')\n",
    "print(comments_by_hour)"
   ]
  },
  {
   "cell_type": "markdown",
   "metadata": {},
   "source": [
    "Next, we will use `counts_by_hour` and `comments_by_hour` dictionaries to determine the average number of comments for posts created during each hour of the day."
   ]
  },
  {
   "cell_type": "code",
   "execution_count": 10,
   "metadata": {},
   "outputs": [
    {
     "name": "stdout",
     "output_type": "stream",
     "text": [
      "[['09', 5.58], ['13', 14.74], ['10', 13.44], ['14', 13.23], ['16', 16.8], ['23', 7.99], ['12', 9.41], ['17', 11.46], ['15', 38.59], ['21', 16.01], ['20', 21.52], ['02', 23.81], ['18', 13.2], ['03', 7.8], ['05', 10.09], ['19', 10.8], ['01', 11.38], ['22', 6.75], ['08', 10.25], ['04', 7.17], ['00', 8.13], ['06', 9.02], ['07', 7.85], ['11', 11.05]]\n"
     ]
    }
   ],
   "source": [
    "avg_by_hour = []\n",
    "\n",
    "for hour in comments_by_hour:\n",
    "    avg_comments_per_posts = round((comments_by_hour[hour]/counts_by_hour[hour]),2)\n",
    "#     print(avg_comments_per_posts)\n",
    "    avg_by_hour.append([hour, avg_comments_per_posts])\n",
    "print(avg_by_hour)"
   ]
  },
  {
   "cell_type": "markdown",
   "metadata": {},
   "source": [
    "## Identifying the Top Five Hours where 'Ask Post' got Most Comments\n",
    "To make the results easier to read, we sort the average number of comments per post in descending order. The date and time used in this dataset are following the **Eastern Time (EST)** in the United States. Thus, we convert the **EST** (`UTC-05`) time zone to **our time zone, Eastern European Time** (**EET**, `UTC+02`) to make it more relevant to us."
   ]
  },
  {
   "cell_type": "code",
   "execution_count": 11,
   "metadata": {},
   "outputs": [
    {
     "name": "stdout",
     "output_type": "stream",
     "text": [
      "swap_avg_by_hour:\n",
      "[(5.58, '09'), (14.74, '13'), (13.44, '10'), (13.23, '14'), (16.8, '16'), (7.99, '23'), (9.41, '12'), (11.46, '17'), (38.59, '15'), (16.01, '21'), (21.52, '20'), (23.81, '02'), (13.2, '18'), (7.8, '03'), (10.09, '05'), (10.8, '19'), (11.38, '01'), (6.75, '22'), (10.25, '08'), (7.17, '04'), (8.13, '00'), (9.02, '06'), (7.85, '07'), (11.05, '11')]\n",
      "\n",
      "\n",
      "The Top Five Hours where 'Ask Post' got Most Comments:\n",
      "    15:00 EST (UTC-05) or 22:00 EET/our time (UTC+02):    38.59 average comments per post\n",
      "    02:00 EST (UTC-05) or 09:00 EET/our time (UTC+02):    23.81 average comments per post\n",
      "    20:00 EST (UTC-05) or 03:00 EET/our time (UTC+02):    21.52 average comments per post\n",
      "    16:00 EST (UTC-05) or 23:00 EET/our time (UTC+02):    16.80 average comments per post\n",
      "    21:00 EST (UTC-05) or 04:00 EET/our time (UTC+02):    16.01 average comments per post\n"
     ]
    }
   ],
   "source": [
    "# Swap the columns in `avg_by_hour` and assign it to a list named `swap_avg_by_hour`.\n",
    "swap_avg_by_hour = []\n",
    "\n",
    "for a in avg_by_hour:\n",
    "    swap_avg_by_hour.append((a[1], a[0]))    # a[1] = avg_comments_per_posts; a[0] = hour\n",
    "\n",
    "print('swap_avg_by_hour:')\n",
    "print(swap_avg_by_hour)\n",
    "print('\\n')\n",
    "\n",
    "sorted_swap = sorted(swap_avg_by_hour, reverse=True)    # Sorting the average number of comments\n",
    "\n",
    "print(\"The Top Five Hours where 'Ask Post' got Most Comments:\")\n",
    "\n",
    "for item in sorted_swap[:5]:\n",
    "    # US/Eastern timezone (EST) - UTC-05\n",
    "    est_hour_dt = dt.datetime.strptime(item[1], '%H')\n",
    "    est_hour_str = est_hour_dt.strftime('%H:%M')\n",
    "    \n",
    "    # Our timezone (EET) - UTC+02: 7 hours ahead of EST\n",
    "    # Converting the `Hour` from EST to EET\n",
    "    our_hour_dt = dt.datetime.strptime(item[1], '%H') + dt.timedelta(hours=7)\n",
    "    our_hour_str = our_hour_dt.strftime('%H:%M')\n",
    "    \n",
    "    print('   ', '{est_time} EST (UTC-05) or {our_time} EET/our time (UTC+02):    {avg:.2f} average comments per post'.format(est_time=est_hour_str, our_time=our_hour_str, avg=item[0]))    # Use two decimal places to format avg"
   ]
  },
  {
   "cell_type": "markdown",
   "metadata": {},
   "source": [
    "Our results show that **creating a post at 15:00 - 16:00 EST has the highest chance of receiving comments**. One of the possible explanations is that 15:00 EST is a time when users in both North America and Europe are active. This is based on our assumption that most of the Hacker News users are from these two continents. For the practicality reason, **the best time for us to submit a post at our time zone is 22:00, and it is followed by 09:00 and 23:00 EET**."
   ]
  },
  {
   "cell_type": "markdown",
   "metadata": {},
   "source": [
    "## Which Post has More Points on Average — 'Ask HN' or 'Show HN'?"
   ]
  },
  {
   "cell_type": "markdown",
   "metadata": {},
   "source": [
    "The next question that we ask is — *what type of post has more points on average*? The number of points is the total number of upvotes deducts the total number of downvotes.\n",
    "\n",
    "To answer this question, we apply a similar approach as before to compute the average number of points for `ask_posts` and `show_posts`. The `index` for `num_points` is *3*."
   ]
  },
  {
   "cell_type": "code",
   "execution_count": 12,
   "metadata": {},
   "outputs": [],
   "source": [
    "def average_points(posts_type):\n",
    "    total_points = 0\n",
    "\n",
    "    for row in posts_type:\n",
    "        num_points = int(row[3])\n",
    "        total_points += num_points\n",
    "\n",
    "    avg_points = round(total_points/len(posts_type), 2)\n",
    "    return avg_points"
   ]
  },
  {
   "cell_type": "code",
   "execution_count": 13,
   "metadata": {},
   "outputs": [
    {
     "name": "stdout",
     "output_type": "stream",
     "text": [
      "Average number of points for ask_posts:    15.06\n"
     ]
    }
   ],
   "source": [
    "print('Average number of points for ask_posts:   ', average_points(ask_posts))"
   ]
  },
  {
   "cell_type": "code",
   "execution_count": 14,
   "metadata": {},
   "outputs": [
    {
     "name": "stdout",
     "output_type": "stream",
     "text": [
      "Average number of points for show_posts:    27.56\n"
     ]
    }
   ],
   "source": [
    "print('Average number of points for show_posts:   ', average_points(show_posts))"
   ]
  },
  {
   "cell_type": "markdown",
   "metadata": {},
   "source": [
    "In contrary to the numbers of comments, `show_posts` shows a higher average number of points than `ask_posts`. Given that, we will focus on determining the creation time for `show_posts` that probably receive more points."
   ]
  },
  {
   "cell_type": "markdown",
   "metadata": {},
   "source": [
    "## Determining whether the Number of Points are Influenced by Post Creation Time"
   ]
  },
  {
   "cell_type": "markdown",
   "metadata": {},
   "source": [
    "We wonder whether posts created at a certain time are more likely to obtain more points.\n",
    "\n",
    "First, we examine the number of show_posts created per hour along with the total points obtained:"
   ]
  },
  {
   "cell_type": "code",
   "execution_count": 15,
   "metadata": {},
   "outputs": [
    {
     "name": "stdout",
     "output_type": "stream",
     "text": [
      "counts_by_hour_show_posts:\n",
      "{'14': 86, '22': 46, '18': 61, '07': 26, '20': 60, '05': 19, '16': 93, '19': 55, '15': 78, '03': 27, '17': 93, '06': 16, '02': 30, '13': 99, '08': 34, '21': 47, '04': 26, '11': 44, '12': 61, '23': 36, '09': 30, '01': 28, '10': 36, '00': 31}\n",
      "\n",
      "\n",
      "points_by_hour_show_posts:\n",
      "{'14': 2187, '22': 1856, '18': 2215, '07': 494, '20': 1819, '05': 104, '16': 2634, '19': 1702, '15': 2228, '03': 679, '17': 2521, '06': 375, '02': 340, '13': 2438, '08': 519, '21': 866, '04': 386, '11': 1480, '12': 2543, '23': 1526, '09': 553, '01': 700, '10': 681, '00': 1173}\n"
     ]
    }
   ],
   "source": [
    "result_list_show_posts = []\n",
    "counts_by_hour_show_posts = {}    # The number of ask_posts created every hour\n",
    "points_by_hour_show_posts = {}  # The number of points obtained by the show_posts\n",
    "\n",
    "for row in show_posts:\n",
    "    created_at = row[-1]\n",
    "    num_points = int(row[3])\n",
    "    result_list_show_posts.append([created_at, num_points])\n",
    "    \n",
    "for result in result_list_show_posts:\n",
    "    points_result = result[1]\n",
    "    creation_time_str = result[0]\n",
    "    creation_time_dt = dt.datetime.strptime(creation_time_str, '%m/%d/%Y %H:%M')\n",
    "    creation_hour = creation_time_dt.strftime('%H')\n",
    "\n",
    "    if not creation_hour in counts_by_hour_show_posts:\n",
    "        counts_by_hour_show_posts[creation_hour] = 1\n",
    "        points_by_hour_show_posts[creation_hour] = points_result\n",
    "    else:\n",
    "        counts_by_hour_show_posts[creation_hour] += 1\n",
    "        points_by_hour_show_posts[creation_hour] += points_result\n",
    "\n",
    "print('counts_by_hour_show_posts:')\n",
    "print(counts_by_hour_show_posts)\n",
    "print('\\n')\n",
    "print('points_by_hour_show_posts:')\n",
    "print(points_by_hour_show_posts)"
   ]
  },
  {
   "cell_type": "markdown",
   "metadata": {},
   "source": [
    "The lines of code above yields the `counts_by_hour_show_posts` and `points_by_hour_show_posts` dictionaries. By using these dictionaries, we will determine the average number of points for `show_posts` created during each hour of the day:"
   ]
  },
  {
   "cell_type": "code",
   "execution_count": 16,
   "metadata": {},
   "outputs": [
    {
     "name": "stdout",
     "output_type": "stream",
     "text": [
      "[['14', 25.43], ['22', 40.35], ['18', 36.31], ['07', 19.0], ['20', 30.32], ['05', 5.47], ['16', 28.32], ['19', 30.95], ['15', 28.56], ['03', 25.15], ['17', 27.11], ['06', 23.44], ['02', 11.33], ['13', 24.63], ['08', 15.26], ['21', 18.43], ['04', 14.85], ['11', 33.64], ['12', 41.69], ['23', 42.39], ['09', 18.43], ['01', 25.0], ['10', 18.92], ['00', 37.84]]\n"
     ]
    }
   ],
   "source": [
    "avg_points_by_hour_show_posts = []\n",
    "\n",
    "for hour in points_by_hour_show_posts:\n",
    "    avg_points_per_posts = round((points_by_hour_show_posts[hour]/counts_by_hour_show_posts[hour]),2)\n",
    "#     print(avg_points_per_posts)\n",
    "    avg_points_by_hour_show_posts.append([hour, avg_points_per_posts])\n",
    "print(avg_points_by_hour_show_posts)"
   ]
  },
  {
   "cell_type": "markdown",
   "metadata": {},
   "source": [
    "Next, we sort the average number of points per post in descending order:"
   ]
  },
  {
   "cell_type": "code",
   "execution_count": 17,
   "metadata": {},
   "outputs": [
    {
     "name": "stdout",
     "output_type": "stream",
     "text": [
      "swap_avg_points_by_hour_show_posts:\n",
      "[(25.43, '14'), (40.35, '22'), (36.31, '18'), (19.0, '07'), (30.32, '20'), (5.47, '05'), (28.32, '16'), (30.95, '19'), (28.56, '15'), (25.15, '03'), (27.11, '17'), (23.44, '06'), (11.33, '02'), (24.63, '13'), (15.26, '08'), (18.43, '21'), (14.85, '04'), (33.64, '11'), (41.69, '12'), (42.39, '23'), (18.43, '09'), (25.0, '01'), (18.92, '10'), (37.84, '00')]\n",
      "\n",
      "\n",
      "The Top Five Hours where 'Share Post' got Most Points:\n",
      "    23:00 EST (UTC-05) or 06:00 EET/our time (UTC+02):    42.39 average points per post\n",
      "    12:00 EST (UTC-05) or 19:00 EET/our time (UTC+02):    41.69 average points per post\n",
      "    22:00 EST (UTC-05) or 05:00 EET/our time (UTC+02):    40.35 average points per post\n",
      "    00:00 EST (UTC-05) or 07:00 EET/our time (UTC+02):    37.84 average points per post\n",
      "    18:00 EST (UTC-05) or 01:00 EET/our time (UTC+02):    36.31 average points per post\n"
     ]
    }
   ],
   "source": [
    "# Swap the columns in `avg_points_by_hour_show_posts` and assign it to a list named `swap_avg_points_by_hour_show_posts`.\n",
    "swap_avg_points_by_hour_show_posts = []\n",
    "\n",
    "for a in avg_points_by_hour_show_posts:\n",
    "    swap_avg_points_by_hour_show_posts.append((a[1], a[0]))    # a[1] = avg_points_per_posts; a[0] = hour\n",
    "\n",
    "print('swap_avg_points_by_hour_show_posts:')\n",
    "print(swap_avg_points_by_hour_show_posts)\n",
    "print('\\n')\n",
    "\n",
    "sorted_swap_points = sorted(swap_avg_points_by_hour_show_posts, reverse=True)    # Sorting the average number of points\n",
    "\n",
    "print(\"The Top Five Hours where 'Share Post' got Most Points:\")\n",
    "\n",
    "for item in sorted_swap_points[:5]:\n",
    "    # US/Eastern timezone (EST) - UTC-05\n",
    "    est_hour_dt = dt.datetime.strptime(item[1], '%H')\n",
    "    est_hour_str = est_hour_dt.strftime('%H:%M')\n",
    "    \n",
    "    # Our timezone (EET) - UTC+02: 7 hours ahead of EST\n",
    "    # Converting the `Hour` from EST to EET\n",
    "    our_hour_dt = dt.datetime.strptime(item[1], '%H') + dt.timedelta(hours=7)\n",
    "    our_hour_str = our_hour_dt.strftime('%H:%M')\n",
    "    \n",
    "    print('   ', '{est_time} EST (UTC-05) or {our_time} EET/our time (UTC+02):    {avg:.2f} average points per post'.format(est_time=est_hour_str, our_time=our_hour_str, avg=item[0]))    # Use two decimal places to format avg"
   ]
  },
  {
   "cell_type": "markdown",
   "metadata": {},
   "source": [
    "The result shows that four out of the top 5 hours (6:00, 05:00, 07:00 and 01:00 EET) are at night or early morning at our time zone, which falls into the timeframe of 18:00 - 00:00 EST. This **implies that `share_posts` are more popular among users from North America**, and it has a **much higher chance of getting more points or upvotes during the evening to midnight timeframe at the EST time zone**. We also noticed that the differences in average points between the top 5 hours are smaller compared to those of average comments.\n",
    "\n",
    "Unlike the average of number points, **the average number of comments seems to be more equally contributed by users from both North America and Europe** at their active hours. Additionally, users from these two continents appear to share an equal interest in `ask_posts`."
   ]
  },
  {
   "cell_type": "markdown",
   "metadata": {},
   "source": [
    "## Conclusion\n",
    "In this project, we analyzed the data of Hacker News posts to study which type of posts and its submission time has an average higher number of comments. We found that **`Ask HN` has a slightly higher number of comments** and receives the **most comments at the submission time of 15:00 EST**, which **equivalents to 22:00 EET at our time zone**. On the other hand, the **`Share HN` posses a higher average number of points** with the top hours of gaining points at **23:00 EST or 06:00 EET**.\n",
    "\n",
    "This result serves as a useful guide for us to submit our posts, either `Ask HN` or `Share HN`, on Hacker News with a higher chance of gaining a high level of attention."
   ]
  }
 ],
 "metadata": {
  "kernelspec": {
   "display_name": "Python 3",
   "language": "python",
   "name": "python3"
  },
  "language_info": {
   "codemirror_mode": {
    "name": "ipython",
    "version": 3
   },
   "file_extension": ".py",
   "mimetype": "text/x-python",
   "name": "python",
   "nbconvert_exporter": "python",
   "pygments_lexer": "ipython3",
   "version": "3.7.3"
  }
 },
 "nbformat": 4,
 "nbformat_minor": 2
}
